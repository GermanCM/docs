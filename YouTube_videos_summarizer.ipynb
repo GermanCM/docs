{
  "nbformat": 4,
  "nbformat_minor": 0,
  "metadata": {
    "colab": {
      "provenance": [],
      "include_colab_link": true
    },
    "language_info": {
      "name": "python"
    },
    "kernelspec": {
      "name": "python3",
      "display_name": "Python 3"
    }
  },
  "cells": [
    {
      "cell_type": "markdown",
      "metadata": {
        "id": "view-in-github",
        "colab_type": "text"
      },
      "source": [
        "<a href=\"https://colab.research.google.com/github/GermanCM/docs/blob/master/YouTube_videos_summarizer.ipynb\" target=\"_parent\"><img src=\"https://colab.research.google.com/assets/colab-badge.svg\" alt=\"Open In Colab\"/></a>"
      ]
    },
    {
      "cell_type": "markdown",
      "metadata": {
        "id": "GzyFnR4uW_yA"
      },
      "source": [
        "# Setup\n",
        "\n",
        "Please ensure you have imported a Gemini API key from AI Studio.\n",
        "You can do this directly in the Secrets tab on the left.\n",
        "\n",
        "After doing so, please run the setup cell below."
      ]
    },
    {
      "cell_type": "code",
      "metadata": {
        "id": "r_Lh3vegW_yE"
      },
      "source": [
        "!pip install -U -q \"google\"\n",
        "!pip install -U -q \"google.genai\"\n",
        "\n",
        "import os\n",
        "from google.colab import userdata\n",
        "from google.colab import drive\n",
        "os.environ[\"GEMINI_API_KEY\"] = userdata.get(\"GOOGLE_API_KEY\")\n",
        "\n",
        "#  ensure that uploaded files are available in the AI St"
      ],
      "execution_count": 4,
      "outputs": []
    },
    {
      "cell_type": "markdown",
      "metadata": {
        "id": "bagPbI72W_yG"
      },
      "source": [
        "# Generated Code"
      ]
    },
    {
      "cell_type": "code",
      "metadata": {
        "colab": {
          "base_uri": "https://localhost:8080/"
        },
        "id": "CGPxDy5VW_yH",
        "outputId": "44509da7-63a9-4d26-ef14-7759e0ef702a"
      },
      "source": [
        "import base64\n",
        "import os\n",
        "from google import genai\n",
        "from google.genai import types\n",
        "\n",
        "\n",
        "def generate():\n",
        "    client = genai.Client(\n",
        "        api_key=os.environ.get(\"GEMINI_API_KEY\"),\n",
        "    )\n",
        "\n",
        "    model = \"gemini-2.5-pro-exp-03-25\"\n",
        "    contents = [\n",
        "        types.Content(\n",
        "            role=\"user\",\n",
        "            parts=[\n",
        "                types.Part.from_uri(\n",
        "                    file_uri=\"https://youtu.be/SsNsYunj22c\",\n",
        "                    mime_type=\"video/*\",\n",
        "                ),\n",
        "                types.Part.from_text(text=\"\"\"Resume los principales hitos del vídeo \"\"\"),\n",
        "            ],\n",
        "        ),\n",
        "        types.Content(\n",
        "            role=\"model\",\n",
        "            parts=[\n",
        "                types.Part.from_text(text=\"\"\"Here's a thinking process to arrive at the summary of the video about ChatGPT's image generation capabilities:\n",
        "\n",
        "1.  **Understand the Goal:** The user wants a summary of the main points (hitos) presented in the video. The video appears to be about a new update to ChatGPT, specifically focusing on its image generation abilities and how it compares to or replaces other tools, particularly Adobe products.\n",
        "\n",
        "2.  **Initial Scan/Watch (Mental or Actual):**\n",
        "    *   The speaker starts by saying OpenAI (ChatGPT) is \\\"attacking\\\" Adobe's \\\"waterline.\\\"\n",
        "    *   He mentions the latest ChatGPT update can *replace* Photoshop in some cases.\n",
        "    *   He emphasizes it can *directly replace* other Adobe suite tools.\n",
        "    *   He promises to show 7 \\\"spectacular\\\" use cases demonstrating ChatGPT's image generation precision.\n",
        "    *   He calls the update the most \\\"mind-blowing\\\" (alucinante) yet.\n",
        "    *   **Use Case 1 (Dog Poster):** Takes a photo of his dog, asks for a Brutalist Soviet propaganda poster with screen printing technique and the title \\\"Siempre con hambre\\\" (Always hungry). Gets a basic result. *Iterates:* Asks for the dog to be more geometric/Bauhaus style but keep the Soviet poster feel. Gets a better, more stylized result. *Iterates again:* Asks ChatGPT to *analyze* the current image and propose improvements for style and composition. ChatGPT does this (identifies strengths/weaknesses). Speaker asks ChatGPT to generate the *improved* version based on its *own* analysis. Gets the final, impressive poster. Key takeaway: Iterative refinement and ChatGPT's self-analysis/improvement capability.\n",
        "    *   **Use Case 2 (Bust for Sale):** Takes a photo of a drawing bust, wants to sell it online. Asks ChatGPT for creative ad *ideas* first. ChatGPT provides text/concept. Speaker then asks ChatGPT to *describe* what the ad image should look like (creative). ChatGPT describes a scene (lighting, composition, props like pencils/sketchbook). Speaker asks ChatGPT to *generate* the image based on *that description*. Gets a high-quality product photo matching the creative concept. Key takeaway: Using ChatGPT for concept/description *before* generation, creating tailored product shots.\n",
        "    *   **Use Case 3 (Lettering Style Transfer):** Shows an image of \\\"Hola\\\" lettering and a pink puffer jacket. Asks ChatGPT to create lettering with the *texture and style* of the jacket. Gets \\\"Hola\\\" rendered in a puffy, pink, jacket-like texture. Key takeaway: Style/texture transfer from one image to another (specifically onto text).\n",
        "    *   **Use Case 4 (Removing Background):** After generating the puffy \\\"Hola,\\\" asks ChatGPT to make the background transparent. Gets the lettering isolated on a transparent background. Key takeaway: Basic image editing (background removal) within ChatGPT.\n",
        "    *   **Use Case 5 (Product Ad Concepts/Generation):** Shows headphones (Audio-Technica ATH-M50x). Asks ChatGPT to analyze the product, create an Apple-style, colorful ad poster, and give 3 different ideas. ChatGPT identifies the product and provides 3 distinct visual concepts (Idea 1: Neon gradient, floating headphones; Idea 2: Paint splashes; Idea 3: Pastel diagonal stripes). Key takeaway: Generating multiple creative ad concepts and descriptions.\n",
        "    *   **Use Case 6 (Generating Specific Ad Concept):** Asks ChatGPT to generate *Idea 1* (the neon gradient one). Gets the image with the headphones, gradient, and slogan \\\"Tu música. Tus colores.\\\" Key takeaway: Generating an image based on one of its previously suggested concepts.\n",
        "    *   **Use Case 7 (Generating Another Ad Concept):** Asks ChatGPT to generate *Idea 3* (pastel stripes, iMac M1 style). Gets that version. Key takeaway: Flexibility to generate different concepts on demand.\n",
        "    *   **Use Case 8 (Infographics):** Wants an infographic about 2-stroke engines. Asks ChatGPT for the *structure* first (title, intro, schema, phases, comparison, etc.). ChatGPT provides the detailed structure. Speaker then asks for a *simple poster version* of the infographic. ChatGPT generates the visual infographic with diagrams and text. Key takeaway: Generating complex visuals like infographics, starting from structure definition.\n",
        "    *   **Use Case 9 (Flintstones Car Ad):** Wants to combine a modern car with a wood texture. Shows car image and wood texture image. Asks for the car chassis to have the wood texture. Gets the wooden car. *Iterates:* Asks for an ad poster *based on this wooden car* with a Flintstones theme, specifically the \\\"No necesita pies para arrancar\\\" (Doesn't need feet to start) concept suggested earlier by ChatGPT. Asks for the car to remain realistic (not modified further). Gets a Flintstones-style illustration featuring the wooden car, characters, and the slogan. *Iterates again:* Asks for a *mockup* of this poster integrated into a nighttime street bus stop ad display. Gets the mockup image. Key takeaway: Combining concepts, using generated images as input for further generations, creating mockups.\n",
        "    *   **Use Case 10 (Perfume Ad):** Shows a model's face and a Chanel N°5 bottle. Asks for an ad image with the model holding the bottle near her face, looking at the camera. Gets the image. *Iterates:* Asks for 5 *more ideas* for ads with these elements. ChatGPT provides text descriptions. *Iterates:* Asks for *Idea 4* (Black & White with color pop on the perfume). Gets the B&W image with the color perfume. *Iterates again (correcting consistency):* Points out the label/bottle design degraded. Asks ChatGPT to retry, referencing the original images again and specifying the exact text for the label (\\\"N° 5 CHANEL Paris eau de parfum\\\"). Gets a new version, closer but still imperfect label, but better consistency with the model/bottle. Key takeaway: Generating ads with models and products, attempting style variations (B&W + color), and iterative correction (though text on labels remains a challenge).\n",
        "    *   **Call to Action:** Promotes his AI Academy and waitlist.\n",
        "\n",
        "3.  **Synthesize and Group Key Points (Hitos):**\n",
        "    *   **Core Message:** ChatGPT (specifically GPT-4o's update) has significantly improved image generation and *editing* capabilities, directly competing with/potentially replacing tools like Adobe Photoshop and Illustrator, especially for certain tasks.\n",
        "    *   **Key Capabilities Demonstrated:**\n",
        "        *   **Image Generation from Text:** Standard, but with high precision.\n",
        "        *   **Image Generation from Image + Text:** Using an input image as a base or reference (dog photo, bust photo, lettering, jacket, headphones, car, wood, model, perfume).\n",
        "        *   **Iterative Refinement:** Starting with a basic image and improving it through conversation (dog poster).\n",
        "        *   **Style/Texture Transfer:** Applying the style/texture of one image (jacket) to another element (text).\n",
        "        *   **Basic Editing:** Background removal (lettering).\n",
        "        *   **Conceptualization & Generation:** Asking for *ideas* or *descriptions* first, then generating based on that (bust ad, headphones ads, Flintstones ad).\n",
        "        *   **Self-Analysis/Improvement:** ChatGPT analyzing its own output and suggesting/implementing improvements (dog poster).\n",
        "        *   **Generating Multiple Concepts:** Providing several distinct visual ideas for a single prompt (headphones ads).\n",
        "        *   **Infographic Generation:** Creating structured visual explanations (2-stroke engine).\n",
        "        *   **Mockup Creation:** Placing a generated design into a realistic context (Flintstones ad on bus stop).\n",
        "        *   **Working with Text in Images:** Generating posters/ads with specific slogans/text (though accuracy, especially on complex labels like Chanel, can still be imperfect).\n",
        "        *   **Maintaining Consistency (Attempted):** Trying to keep elements (like faces or product details) consistent across generations (perfume ad).\n",
        "    *   **Overall Impression:** The tool is powerful for both personal (fun posters) and professional (ad concepts, product shots, lettering, infographics, mockups) use cases, particularly in the ideation and initial design phases. It acts like a design assistant.\n",
        "\n",
        "4.  **Draft the Summary:** Write down the synthesized points in a concise way.\n",
        "\n",
        "    *   *Initial Draft:* The video shows the new ChatGPT image generation update. The speaker says it challenges Adobe. He shows 7 examples. First, a dog poster made iteratively, where ChatGPT improved it itself. Second, a product photo for a bust, where ChatGPT suggested the creative idea first. Third, lettering made to look like a jacket texture. Fourth, removing the background from the lettering. Fifth, generating multiple ad ideas for headphones. Sixth and seventh, generating specific headphone ads from those ideas. Eighth, creating an infographic for a 2-stroke engine after defining the structure. Ninth, making a car wooden, then creating a Flintstones ad with it, and finally putting that ad in a bus stop mockup. Tenth, making a perfume ad with a model, trying B&W style, and trying to fix the label text. The speaker concludes it's a huge update and promotes his academy.\n",
        "\n",
        "5.  **Refine and Structure:** Make the summary flow better, use stronger verbs, and group related points. Ensure it captures the \\\"hitos\\\" (milestones/key takeaways).\n",
        "\n",
        "    *   *Second Draft (Closer to Final):* The video highlights the significantly enhanced image generation and editing capabilities of the latest ChatGPT update (presumably GPT-4o), positioning it as a direct competitor to Adobe tools like Photoshop and Illustrator for various tasks. The presenter demonstrates several key capabilities through examples:\n",
        "        *   **Iterative Design & Self-Correction:** Creating a dog poster, refining it through conversation, and even having ChatGPT analyze and improve its own creation.\n",
        "        *   **Concept to Visual:** Generating product photos (drawing bust) based on creative concepts and descriptions first developed with ChatGPT.\n",
        "        *   **Style and Texture Transfer:** Applying the visual style and texture of one image (a jacket) onto text (\\\"Hola\\\").\n",
        "        *   **Basic Image Editing:** Removing the background from generated lettering.\n",
        "        *   **Ad Campaign Ideation & Generation:** Brainstorming multiple distinct ad concepts (for headphones) and then generating specific visuals for selected ideas.\n",
        "        *   **Infographic Creation:** Generating a complex infographic (explaining a 2-stroke engine) by first defining its structure with the AI.\n",
        "        *   **Complex Composition & Mockups:** Combining elements (a car with wood texture, Flintstones theme) and placing the final design into a realistic context (bus stop mockup).\n",
        "        *   **Generating Ads with Models:** Creating realistic ad visuals featuring models and products (perfume ad), including style variations like black and white with selective color, while also showing attempts at iterative correction for details like labels.\n",
        "    *   The main takeaway is that ChatGPT can now act as a powerful design assistant, capable of ideation, generation, refinement, and basic editing, useful for both personal and professional creative work, significantly streamlining the design process.\n",
        "\n",
        "6.  **Final Polish:** Check for clarity, conciseness, and accuracy. Ensure it directly answers the user's request for \\\"principales hitos.\\\" Add a concluding sentence about the overall impact shown. (This leads to the final provided good answer).\"\"\"),\n",
        "                types.Part.from_text(text=\"\"\"Aquí tienes un resumen de los principales hitos del vídeo sobre las nuevas capacidades de generación de imágenes de ChatGPT:\n",
        "\n",
        "1.  **Competencia Directa con Adobe:** El vídeo posiciona la nueva actualización de ChatGPT como un desafío directo a herramientas de Adobe como Photoshop e Illustrator, sugiriendo que puede reemplazar algunas de sus funciones.\n",
        "2.  **Generación Iterativa y Autocorrección:** Se muestra cómo crear una imagen (un póster de perro estilo propaganda soviética) y refinarla progresivamente a través de la conversación, incluso pidiendo a ChatGPT que analice su propia creación y proponga mejoras antes de generar la versión final.\n",
        "3.  **Concepto a Visualización:** Demuestra cómo usar ChatGPT primero para generar ideas creativas y descripciones detalladas (para un anuncio de un busto de dibujo o de auriculares) y luego generar la imagen final basándose en esas especificaciones.\n",
        "4.  **Transferencia de Estilo/Textura:** Enseña cómo aplicar la textura y el estilo visual de una imagen de referencia (una chaqueta acolchada) a un elemento diferente, como un texto (\\\"Hola\\\").\n",
        "5.  **Edición Básica de Imágenes:** Muestra la capacidad de realizar ediciones simples, como eliminar el fondo de una imagen generada (el texto \\\"Hola\\\" texturizado).\n",
        "6.  **Creación de Infografías:** Ilustra cómo ChatGPT puede generar infografías complejas (explicando un motor de 2 tiempos) partiendo de una estructura de contenido definida previamente en la conversación.\n",
        "7.  **Composiciones Complejas y Mockups:** Combina múltiples conceptos (un coche con textura de madera, temática de Los Picapiedra) y luego integra el diseño resultante en un contexto realista (un cartel en una marquesina de autobús nocturna).\n",
        "8.  **Generación de Publicidad con Modelos:** Crea imágenes publicitarias que incluyen modelos y productos específicos (un anuncio de perfume Chanel N°5), permitiendo variaciones de estilo (blanco y negro con color selectivo) e intentos de corrección de detalles finos como las etiquetas del producto.\n",
        "9.  **Asistente de Diseño Integral:** La conclusión general es que ChatGPT se convierte en un potente asistente de diseño capaz de participar en todo el proceso creativo: ideación, generación, refinamiento, edición básica y contextualización (mockups), siendo útil tanto para uso personal como profesional.\"\"\"),\n",
        "            ],\n",
        "        ),\n",
        "        types.Content(\n",
        "            role=\"user\",\n",
        "            parts=[\n",
        "                types.Part.from_text(text=\"\"\"resume la tematica del video\"\"\"),\n",
        "            ],\n",
        "        ),\n",
        "    ]\n",
        "    generate_content_config = types.GenerateContentConfig(\n",
        "        response_mime_type=\"text/plain\",\n",
        "    )\n",
        "\n",
        "    for chunk in client.models.generate_content_stream(\n",
        "        model=model,\n",
        "        contents=contents,\n",
        "        config=generate_content_config,\n",
        "    ):\n",
        "        print(chunk.text, end=\"\")\n",
        "\n",
        "if __name__ == \"__main__\":\n",
        "    generate()\n"
      ],
      "execution_count": 6,
      "outputs": [
        {
          "output_type": "stream",
          "name": "stdout",
          "text": [
            "El vídeo trata sobre las **nuevas y avanzadas capacidades de generación y edición de imágenes de la última actualización de ChatGPT (GPT-4o)**.\n",
            "\n",
            "El presentador argumenta que esta actualización es revolucionaria y posiciona a ChatGPT como un **competidor directo de herramientas de diseño profesionales como Adobe Photoshop e Illustrator** para ciertas tareas.\n",
            "\n",
            "A través de varios ejemplos prácticos (creación de pósters, anuncios de productos, lettering, infografías, mockups), demuestra cómo la herramienta puede:\n",
            "\n",
            "*   Generar imágenes a partir de texto e imágenes de referencia.\n",
            "*   Refinar y editar imágenes de forma iterativa mediante conversación.\n",
            "*   Transferir estilos y texturas.\n",
            "*   Eliminar fondos.\n",
            "*   Ayudar en la conceptualización y luego generar el visual.\n",
            "*   Crear composiciones complejas con texto y elementos gráficos.\n",
            "\n",
            "En resumen, la temática es mostrar el **salto cualitativo de ChatGPT como una potente herramienta de diseño visual y un asistente creativo**, capaz de simplificar y acelerar flujos de trabajo que antes requerían software especializado."
          ]
        }
      ]
    },
    {
      "cell_type": "markdown",
      "source": [
        "**Y esto es el codigo sin el historial de chat**"
      ],
      "metadata": {
        "id": "aDrJXybKaRBG"
      }
    },
    {
      "cell_type": "markdown",
      "source": [],
      "metadata": {
        "id": "J20uO1pQaQpB"
      }
    },
    {
      "cell_type": "code",
      "source": [
        "import base64\n",
        "import os\n",
        "from google import genai\n",
        "from google.genai import types\n",
        "\n",
        "\n",
        "def generate():\n",
        "    client = genai.Client(\n",
        "        api_key=os.environ.get(\"GEMINI_API_KEY\"),\n",
        "    )\n",
        "\n",
        "    model = \"gemini-2.5-pro-exp-03-25\"\n",
        "    contents = [\n",
        "        types.Content(\n",
        "            role=\"user\",\n",
        "            parts=[\n",
        "                types.Part.from_text(text=\"\"\"INSERT_INPUT_HERE\"\"\"),\n",
        "            ],\n",
        "        ),\n",
        "    ]\n",
        "    generate_content_config = types.GenerateContentConfig(\n",
        "        response_mime_type=\"text/plain\",\n",
        "    )\n",
        "\n",
        "    for chunk in client.models.generate_content_stream(\n",
        "        model=model,\n",
        "        contents=contents,\n",
        "        config=generate_content_config,\n",
        "    ):\n",
        "        print(chunk.text, end=\"\")\n",
        "\n",
        "if __name__ == \"__main__\":\n",
        "    generate()\n"
      ],
      "metadata": {
        "id": "ft_8dphmaPKD"
      },
      "execution_count": null,
      "outputs": []
    }
  ]
}